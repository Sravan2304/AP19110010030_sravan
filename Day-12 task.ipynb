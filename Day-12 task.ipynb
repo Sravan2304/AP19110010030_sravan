{
 "cells": [
  {
   "cell_type": "markdown",
   "metadata": {},
   "source": [
    "# TASK\n",
    "* Take a list of years between 1800-2030 and Display all the leap year which is divisible by 5"
   ]
  },
  {
   "cell_type": "code",
   "execution_count": 2,
   "metadata": {},
   "outputs": [
    {
     "name": "stdout",
     "output_type": "stream",
     "text": [
      "The leap years between 1800 and 2030 which are divisible by 5 are : \n",
      "[1820, 1840, 1860, 1880, 1920, 1940, 1960, 1980, 2000, 2020]\n"
     ]
    }
   ],
   "source": [
    "print(\"The leap years between 1800 and 2030 which are divisible by 5 are : \")\n",
    "print([n for n in range(1800,2030) if (n%4==0 and n%100!=0 and n%5==0) or n%400==0])"
   ]
  }
 ],
 "metadata": {
  "kernelspec": {
   "display_name": "Python 3",
   "language": "python",
   "name": "python3"
  },
  "language_info": {
   "codemirror_mode": {
    "name": "ipython",
    "version": 3
   },
   "file_extension": ".py",
   "mimetype": "text/x-python",
   "name": "python",
   "nbconvert_exporter": "python",
   "pygments_lexer": "ipython3",
   "version": "3.8.5"
  }
 },
 "nbformat": 4,
 "nbformat_minor": 4
}
