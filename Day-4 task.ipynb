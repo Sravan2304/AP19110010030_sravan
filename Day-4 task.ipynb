{
 "cells": [
  {
   "cell_type": "markdown",
   "metadata": {},
   "source": [
    "## Task\n",
    "* take the input from user\n",
    "* know whether the length of string is even or odd\n",
    "* if it is odd,print the middle character\n",
    "* if it is even ,print the two middle characters"
   ]
  },
  {
   "cell_type": "code",
   "execution_count": 2,
   "metadata": {},
   "outputs": [
    {
     "name": "stdout",
     "output_type": "stream",
     "text": [
      "enter your name:sravan\n",
      "length of the string is even\n",
      "a v\n"
     ]
    }
   ],
   "source": [
    "string = input(\"enter your name:\")\n",
    "if len(string)%2==0:\n",
    "    print(\"length of the string is even\")\n",
    "    print(string[len(string)//2 - 1],string[len(string)//2])\n",
    "elif len(string)%2!=0:\n",
    "    print(\"length of the string is odd\")\n",
    "    print(string[len(string)//2])"
   ]
  },
  {
   "cell_type": "code",
   "execution_count": 3,
   "metadata": {},
   "outputs": [
    {
     "name": "stdout",
     "output_type": "stream",
     "text": [
      "enter your name:madam\n",
      "length of the string is odd\n",
      "d\n"
     ]
    }
   ],
   "source": [
    "string = input(\"enter your name:\")\n",
    "if len(string)%2==0:\n",
    "    print(\"length of the string is even\")\n",
    "    print(string[len(string)//2 - 1],string[len(string)//2])\n",
    "elif len(string)%2!=0:\n",
    "    print(\"length of the string is odd\")\n",
    "    print(string[len(string)//2])"
   ]
  }
 ],
 "metadata": {
  "kernelspec": {
   "display_name": "Python 3",
   "language": "python",
   "name": "python3"
  },
  "language_info": {
   "codemirror_mode": {
    "name": "ipython",
    "version": 3
   },
   "file_extension": ".py",
   "mimetype": "text/x-python",
   "name": "python",
   "nbconvert_exporter": "python",
   "pygments_lexer": "ipython3",
   "version": "3.8.5"
  }
 },
 "nbformat": 4,
 "nbformat_minor": 4
}
