{
 "cells": [
  {
   "cell_type": "markdown",
   "metadata": {},
   "source": [
    "# Task \n",
    "Write a program to Calculate area of\n",
    "\n",
    "* area of circle : pi*(r)^2\n",
    "\n",
    "* area of Triangle : 1/2 baseheight\n",
    "\n",
    "* area of square : Side^2\n",
    "\n",
    "* area of rectangle: l*b"
   ]
  },
  {
   "cell_type": "code",
   "execution_count": 7,
   "metadata": {
    "scrolled": true
   },
   "outputs": [
    {
     "name": "stdout",
     "output_type": "stream",
     "text": [
      "Enter the radius: 5\n",
      "78.53981633974483\n"
     ]
    }
   ],
   "source": [
    "from math import pi\n",
    "r= int(input(\"Enter the radius: \"))\n",
    "Area = pi*(r*r)\n",
    "print(Area)"
   ]
  },
  {
   "cell_type": "code",
   "execution_count": 8,
   "metadata": {
    "scrolled": true
   },
   "outputs": [
    {
     "name": "stdout",
     "output_type": "stream",
     "text": [
      "Enter the lenght base: 4\n",
      "Enter the height: 5\n",
      "10.0\n"
     ]
    }
   ],
   "source": [
    "import math\n",
    "b = int(input(\"Enter the lenght base: \"))\n",
    "h = int(input(\"Enter the height: \"))\n",
    "area = (b*h)/2\n",
    "print(area)"
   ]
  },
  {
   "cell_type": "code",
   "execution_count": 9,
   "metadata": {},
   "outputs": [
    {
     "name": "stdout",
     "output_type": "stream",
     "text": [
      "Enter the lenght of side: 6\n",
      "36\n"
     ]
    }
   ],
   "source": [
    "import math\n",
    "s = int(input(\"Enter the lenght of side: \"))\n",
    "area = s*s\n",
    "print(area)"
   ]
  },
  {
   "cell_type": "code",
   "execution_count": 1,
   "metadata": {},
   "outputs": [
    {
     "name": "stdout",
     "output_type": "stream",
     "text": [
      "Enter the lenght: 10\n",
      "Enter the breadth: 5\n",
      "50\n"
     ]
    }
   ],
   "source": [
    "import math\n",
    "l = int(input(\"Enter the lenght: \"))\n",
    "b = int(input(\"Enter the breadth: \"))\n",
    "area = l*b\n",
    "print(area)"
   ]
  },
  {
   "cell_type": "markdown",
   "metadata": {},
   "source": [
    "# Task\n",
    "write a program to set your password,\n",
    "if password is correct then speak out welcome to your world,\n",
    "else try again"
   ]
  },
  {
   "cell_type": "code",
   "execution_count": 3,
   "metadata": {},
   "outputs": [
    {
     "name": "stdout",
     "output_type": "stream",
     "text": [
      "Enter your password: 1q2w3e4r\n",
      "Confirm your password: 1q2w3e4r\n"
     ]
    }
   ],
   "source": [
    "import pyttsx3\n",
    "x = input(\"Enter your password: \")\n",
    "y = input(\"Confirm your password: \")\n",
    "if x==y:\n",
    "    spk=pyttsx3.init()\n",
    "    spk.say(\"Welcome to your world\")\n",
    "    spk.runAndWait()\n",
    "else:\n",
    "    spk=pyttsx3.init()\n",
    "    spk.say(\"Try again\")\n",
    "    spk.runAndWait()"
   ]
  },
  {
   "cell_type": "markdown",
   "metadata": {},
   "source": [
    "# Task\n",
    "validate 12 digit phone number,\n",
    "+91 9876543202 - valid"
   ]
  },
  {
   "cell_type": "code",
   "execution_count": 7,
   "metadata": {},
   "outputs": [
    {
     "name": "stdout",
     "output_type": "stream",
     "text": [
      "+919876543210\n",
      "+918123456789\n",
      "+917890123456\n"
     ]
    }
   ],
   "source": [
    "import re\n",
    "l2 = ['+919876543210', '+918123456789', '+917890123456', '+91789654', '+911234567890']\n",
    "for i in l2:\n",
    "    if re.findall('^[+][9][1][6-9]{1}[0-9]{9}$',i):\n",
    "        print(i)"
   ]
  },
  {
   "cell_type": "markdown",
   "metadata": {},
   "source": [
    "# Task\n",
    "* write a program in module\n",
    "* ask the user to enter the data\n",
    "* check the data if it's camelcase print Like (Thumbsup)emoji\n",
    "* else convert the data into camelcase then speakout Successfully converted your data into camel case"
   ]
  },
  {
   "cell_type": "code",
   "execution_count": 1,
   "metadata": {},
   "outputs": [
    {
     "name": "stdout",
     "output_type": "stream",
     "text": [
      "Enter your data: Sravan\n",
      "👍\n"
     ]
    }
   ],
   "source": [
    "import module\n",
    "module.conn_camelcase()"
   ]
  },
  {
   "cell_type": "code",
   "execution_count": 4,
   "metadata": {},
   "outputs": [
    {
     "name": "stdout",
     "output_type": "stream",
     "text": [
      "Enter your data: i am studying at SRM\n",
      "The converted data is: \n",
      "I Am Studying At SRM\n"
     ]
    }
   ],
   "source": [
    "import module\n",
    "module.conn_camelcase()"
   ]
  },
  {
   "cell_type": "code",
   "execution_count": 10,
   "metadata": {},
   "outputs": [],
   "source": [
    "#code written in the module is given below\n",
    "\n",
    "import camelcase\n",
    "import emoji\n",
    "import pyttsx3\n",
    "def conn_camelcase():\n",
    "    a=input(\"Enter your data: \")\n",
    "    x=camelcase.CamelCase()\n",
    "    if a==x.hump(a):\n",
    "        print(emoji.emojize(\":thumbs_up:\"))\n",
    "    else:\n",
    "        print(\"The converted data is: \")\n",
    "        x=camelcase.CamelCase()\n",
    "        print(x.hump(a))\n",
    "        spk=pyttsx3.init()\n",
    "        spk.say(\"Successfully converted\")\n",
    "        spk.runAndWait()\n"
   ]
  }
 ],
 "metadata": {
  "kernelspec": {
   "display_name": "Python 3",
   "language": "python",
   "name": "python3"
  },
  "language_info": {
   "codemirror_mode": {
    "name": "ipython",
    "version": 3
   },
   "file_extension": ".py",
   "mimetype": "text/x-python",
   "name": "python",
   "nbconvert_exporter": "python",
   "pygments_lexer": "ipython3",
   "version": "3.8.5"
  }
 },
 "nbformat": 4,
 "nbformat_minor": 4
}
