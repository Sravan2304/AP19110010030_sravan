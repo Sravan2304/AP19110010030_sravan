{
 "cells": [
  {
   "cell_type": "markdown",
   "metadata": {},
   "source": [
    "# TASKS\n",
    "### 1.Write a program for getting the last five lines from the file"
   ]
  },
  {
   "cell_type": "code",
   "execution_count": 1,
   "metadata": {},
   "outputs": [
    {
     "name": "stdout",
     "output_type": "stream",
     "text": [
      "Jadeja\n",
      "\n",
      "Ashwin \n",
      "\n",
      "Ishant Sharma \n",
      "\n",
      "Mohammed Siraj\n",
      "\n",
      "Bumrah\n"
     ]
    }
   ],
   "source": [
    "f= open('task.txt','r')\n",
    "for i in (f.readlines()[-5:]):\n",
    "    print(i)"
   ]
  },
  {
   "cell_type": "markdown",
   "metadata": {},
   "source": [
    "### 2.Create a function for appending the data into the file"
   ]
  },
  {
   "cell_type": "code",
   "execution_count": 9,
   "metadata": {},
   "outputs": [],
   "source": [
    "def append_data(information):\n",
    "    with open('task.txt','a') as f:\n",
    "        information = f.write(\"\\nShami \\n\")\n",
    "        information = f.write(\"Rahul\")\n",
    "append_data('task.txt')\n",
    "\n"
   ]
  },
  {
   "cell_type": "code",
   "execution_count": 10,
   "metadata": {},
   "outputs": [
    {
     "name": "stdout",
     "output_type": "stream",
     "text": [
      "Rohit Sharma\n",
      "Shubhman Gill\n",
      "Virat Kohli\n",
      "Pujara\n",
      "Rahane\n",
      "Rishabh Pant\n",
      "Jadeja\n",
      "Ashwin \n",
      "Ishant Sharma \n",
      "Mohammed Siraj\n",
      "Bumrah \n",
      "Shami \n",
      "Rahul\n"
     ]
    }
   ],
   "source": [
    "f = open('task.txt')\n",
    "print(f.read())"
   ]
  },
  {
   "cell_type": "markdown",
   "metadata": {},
   "source": [
    "### 3.Create a program for updating a word in the file"
   ]
  },
  {
   "cell_type": "code",
   "execution_count": 21,
   "metadata": {},
   "outputs": [
    {
     "name": "stdout",
     "output_type": "stream",
     "text": [
      "Rohit Sharma\n",
      "Shubhman Gill\n",
      "Virat Kohli\n",
      "Pujara\n",
      "Rahane\n",
      "Rishabh Pant\n",
      "Jadeja\n",
      "Ashwin \n",
      "Ishant Sharma \n",
      "Mohammed Siraj\n",
      "Bumrah \n",
      "Bhuvi \n",
      "Rahul\n"
     ]
    }
   ],
   "source": [
    "import re\n",
    "with open('task.txt',\"r+\") as f:\n",
    "    f1 = f.read( )\n",
    "    f1 = re.sub( \"Shami\", \"Bhuvi\", f1)\n",
    "    f.seek(0)\n",
    "    f.write(f1)\n",
    "    f.truncate( )\n",
    "f = open(\"task.txt\")\n",
    "print (f.read( ))"
   ]
  }
 ],
 "metadata": {
  "kernelspec": {
   "display_name": "Python 3",
   "language": "python",
   "name": "python3"
  },
  "language_info": {
   "codemirror_mode": {
    "name": "ipython",
    "version": 3
   },
   "file_extension": ".py",
   "mimetype": "text/x-python",
   "name": "python",
   "nbconvert_exporter": "python",
   "pygments_lexer": "ipython3",
   "version": "3.8.5"
  }
 },
 "nbformat": 4,
 "nbformat_minor": 4
}
